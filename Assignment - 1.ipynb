{
 "cells": [
  {
   "cell_type": "markdown",
   "id": "d708ae80-6d79-461a-886c-273c725b064e",
   "metadata": {},
   "source": [
    "Q1. Create one variable containing following type of data:\n",
    "\n",
    "(i) string\n",
    "\n",
    "(ii) list\n",
    "\n",
    "(iii) float\n",
    "\n",
    "(iv) tuple"
   ]
  },
  {
   "cell_type": "markdown",
   "id": "f011f325-3c45-469b-b4fc-3d679618e1ff",
   "metadata": {},
   "source": [
    "Ans"
   ]
  },
  {
   "cell_type": "code",
   "execution_count": 1,
   "id": "460dfb0d-0498-411a-8b94-475e96fcfc95",
   "metadata": {},
   "outputs": [],
   "source": [
    "string = \"Saksham\""
   ]
  },
  {
   "cell_type": "code",
   "execution_count": 2,
   "id": "9855f1b1-921e-43b6-973a-735f47259601",
   "metadata": {},
   "outputs": [],
   "source": [
    "list = [1,2,3,4,5]"
   ]
  },
  {
   "cell_type": "code",
   "execution_count": 3,
   "id": "988152be-169b-41cd-bd24-24b31cf93b30",
   "metadata": {},
   "outputs": [],
   "source": [
    "float = 4521.2154"
   ]
  },
  {
   "cell_type": "code",
   "execution_count": 4,
   "id": "025f2ff5-bdc7-4a3c-9491-8de666b85c27",
   "metadata": {},
   "outputs": [],
   "source": [
    "tuple = (10,20,30,40,50)"
   ]
  },
  {
   "cell_type": "markdown",
   "id": "0ef3aa91-274d-4f11-a29c-0b0bc432eeec",
   "metadata": {},
   "source": [
    "Q2.Given are some following variables containing data:\n",
    "\n",
    "(i) var1 = ‘ ‘\n",
    "\n",
    "(ii) var2 = ‘[ DS , ML , Python]’\n",
    "\n",
    "(iii) var3 = [ ‘DS’ , ’ML’ , ‘Python’ ]\n",
    "\n",
    "(iv) var4 = 1.\n",
    "\n",
    "What will be the data type of the above given variable."
   ]
  },
  {
   "cell_type": "markdown",
   "id": "8bcb8ecf-35f6-4c9e-b5fc-0fcf858776f7",
   "metadata": {},
   "source": [
    "Ans (i)"
   ]
  },
  {
   "cell_type": "code",
   "execution_count": 5,
   "id": "0281ecdb-c186-4a3a-b187-daa5acbd3973",
   "metadata": {},
   "outputs": [],
   "source": [
    "var1 = ' '"
   ]
  },
  {
   "cell_type": "code",
   "execution_count": 6,
   "id": "39d1649b-627a-42ab-9bc7-2133581e25b2",
   "metadata": {},
   "outputs": [
    {
     "data": {
      "text/plain": [
       "str"
      ]
     },
     "execution_count": 6,
     "metadata": {},
     "output_type": "execute_result"
    }
   ],
   "source": [
    "type(var1)"
   ]
  },
  {
   "cell_type": "markdown",
   "id": "b7ad1f21-8339-42d5-bc94-a25e9a7c4ea6",
   "metadata": {},
   "source": [
    "Ans (ii)"
   ]
  },
  {
   "cell_type": "code",
   "execution_count": 7,
   "id": "84e46ab8-8ae8-4cfd-92b2-8ab6eaefb91f",
   "metadata": {},
   "outputs": [],
   "source": [
    "var2 = '[ DS , ML , Python]'"
   ]
  },
  {
   "cell_type": "code",
   "execution_count": 8,
   "id": "89ec56f3-8f57-45c4-a218-414158a69e74",
   "metadata": {},
   "outputs": [
    {
     "data": {
      "text/plain": [
       "str"
      ]
     },
     "execution_count": 8,
     "metadata": {},
     "output_type": "execute_result"
    }
   ],
   "source": [
    "type(var2)"
   ]
  },
  {
   "cell_type": "markdown",
   "id": "021f5078-b0c2-41ac-a850-47b8e8e83591",
   "metadata": {},
   "source": [
    "Ans (iii)"
   ]
  },
  {
   "cell_type": "code",
   "execution_count": 9,
   "id": "08f5bd1b-4e57-418b-972b-759d5a2855ac",
   "metadata": {},
   "outputs": [],
   "source": [
    "var3 = [ 'DS' , 'ML' , 'Python' ]"
   ]
  },
  {
   "cell_type": "code",
   "execution_count": 10,
   "id": "9033f2f3-5a85-434a-a5e6-319b0057a3c0",
   "metadata": {},
   "outputs": [
    {
     "data": {
      "text/plain": [
       "list"
      ]
     },
     "execution_count": 10,
     "metadata": {},
     "output_type": "execute_result"
    }
   ],
   "source": [
    "type(var3)"
   ]
  },
  {
   "cell_type": "markdown",
   "id": "d6c2d760-ca57-4795-ac69-75cad89901e2",
   "metadata": {},
   "source": [
    "Ans (iv)"
   ]
  },
  {
   "cell_type": "code",
   "execution_count": 11,
   "id": "f1e3b1e8-c0a9-4b4a-a222-b0b8e9ae7c68",
   "metadata": {},
   "outputs": [],
   "source": [
    "var4 = 1."
   ]
  },
  {
   "cell_type": "code",
   "execution_count": 12,
   "id": "a8fea159-346d-4ebd-922b-70f2c1013118",
   "metadata": {},
   "outputs": [
    {
     "data": {
      "text/plain": [
       "float"
      ]
     },
     "execution_count": 12,
     "metadata": {},
     "output_type": "execute_result"
    }
   ],
   "source": [
    "type(var4)"
   ]
  },
  {
   "cell_type": "markdown",
   "id": "49012f25-e4bf-4220-bbba-ec50e7a5ca7d",
   "metadata": {},
   "source": [
    "Q3. Explain the use of the following operators using an example:\n",
    "\n",
    "(i)\t/\n",
    "\n",
    "(ii)\t% \n",
    "\n",
    "(iii)\t//\n",
    "\n",
    "(iv)\t**"
   ]
  },
  {
   "cell_type": "markdown",
   "id": "2ac13016-932b-469b-a020-667ea2e5df7e",
   "metadata": {},
   "source": [
    "Ans(i)"
   ]
  },
  {
   "cell_type": "code",
   "execution_count": 13,
   "id": "6a208529-bfd6-44a7-9703-16a3b4a5a932",
   "metadata": {},
   "outputs": [
    {
     "name": "stdout",
     "output_type": "stream",
     "text": [
      "6.25\n"
     ]
    }
   ],
   "source": [
    "a = 25\n",
    "b = 4\n",
    "result = a / b\n",
    "print(result)"
   ]
  },
  {
   "cell_type": "markdown",
   "id": "114fef6c-0a8a-42c6-95b7-5cd218f97dc3",
   "metadata": {},
   "source": [
    "Ans(ii)"
   ]
  },
  {
   "cell_type": "code",
   "execution_count": 14,
   "id": "c89fbd1e-ae49-4566-80d1-1c78b47fe9ba",
   "metadata": {},
   "outputs": [
    {
     "name": "stdout",
     "output_type": "stream",
     "text": [
      "3\n"
     ]
    }
   ],
   "source": [
    "a = 88\n",
    "b = 5\n",
    "remainder = a % b\n",
    "print(remainder)"
   ]
  },
  {
   "cell_type": "markdown",
   "id": "561eb1d0-b11d-4f0e-bc84-1147886f74b2",
   "metadata": {},
   "source": [
    "Ans(iii)"
   ]
  },
  {
   "cell_type": "code",
   "execution_count": 15,
   "id": "47b841af-6aff-4d54-8cbf-70891d13bf7c",
   "metadata": {},
   "outputs": [
    {
     "name": "stdout",
     "output_type": "stream",
     "text": [
      "18\n"
     ]
    }
   ],
   "source": [
    "a = 75\n",
    "b = 4\n",
    "result = a // b\n",
    "print(result)\n"
   ]
  },
  {
   "cell_type": "markdown",
   "id": "1cd40998-16f5-4d80-8b23-ad4397476dc1",
   "metadata": {},
   "source": [
    "Ans(iv)"
   ]
  },
  {
   "cell_type": "code",
   "execution_count": 16,
   "id": "ad365dfd-4502-4a03-9c5b-d624883daf29",
   "metadata": {},
   "outputs": [
    {
     "name": "stdout",
     "output_type": "stream",
     "text": [
      "15625\n"
     ]
    }
   ],
   "source": [
    "a = 5\n",
    "b = 6\n",
    "result = a ** b\n",
    "print(result)\n"
   ]
  },
  {
   "cell_type": "markdown",
   "id": "1ad2ac8b-ded4-4e93-9a71-dd52354c6e77",
   "metadata": {},
   "source": [
    "Q4. Create a list of length 10 of your choice containing multiple types of data. Using for loop print the\n",
    "element and its data type."
   ]
  },
  {
   "cell_type": "code",
   "execution_count": 17,
   "id": "4b8d5f13-79c0-4038-8dbd-f8279ba4b2b0",
   "metadata": {},
   "outputs": [
    {
     "name": "stdout",
     "output_type": "stream",
     "text": [
      "S: 1 | Data Type: int\n",
      "S: 2 | Data Type: int\n",
      "S: Saksham | Data Type: str\n",
      "S: Tanuu | Data Type: str\n",
      "S: True | Data Type: bool\n",
      "S: 254.552 | Data Type: float\n",
      "S: (4+7j) | Data Type: complex\n",
      "S: [1, 2, 3, 4] | Data Type: list\n",
      "S: (10, 20, 30, 40) | Data Type: tuple\n",
      "S: None | Data Type: NoneType\n"
     ]
    }
   ],
   "source": [
    "l= [1,2,'Saksham' , \"Tanuu\" , True , 254.552 , 4+7j ,[1,2,3,4] , (10,20,30,40) , None ]\n",
    "for S in l :\n",
    "    print(f\"S: {S} | Data Type: {type(S).__name__}\")"
   ]
  },
  {
   "cell_type": "markdown",
   "id": "e58229b3-e6b7-49e0-8126-35ffabfb1c6b",
   "metadata": {},
   "source": [
    "Q5. Using a while loop, verify if the number A is purely divisible by number B and if so then how many\n",
    "times it can be divisible."
   ]
  },
  {
   "cell_type": "markdown",
   "id": "b2f6032d-7b60-418f-ae2d-57eadb32fe0e",
   "metadata": {},
   "source": [
    "Ans"
   ]
  },
  {
   "cell_type": "code",
   "execution_count": 18,
   "id": "f0cf9f7e-09a5-47e0-9c49-3d4203ae87db",
   "metadata": {},
   "outputs": [
    {
     "name": "stdin",
     "output_type": "stream",
     "text": [
      "Value of a:  25\n",
      "Value of b:  3\n"
     ]
    },
    {
     "name": "stdout",
     "output_type": "stream",
     "text": [
      "1 is purely divisible by 3 and can be divided 8 times.\n"
     ]
    }
   ],
   "source": [
    "a = int(input(\"Value of a: \"))\n",
    "b = int(input(\"Value of b: \"))\n",
    "count = 0\n",
    "if b != 0 and a >= b :\n",
    "    while a >= b:\n",
    "        a -= b\n",
    "        count += 1\n",
    "if count > 0 :\n",
    "    print(f\"{a} is purely divisible by {b} and can be divided {count} times.\")\n",
    "else:\n",
    "    print(f\"{a} is not purely divisible by {b}.\")"
   ]
  },
  {
   "cell_type": "markdown",
   "id": "a3531f16-f84f-40d3-b887-9a20085a9afa",
   "metadata": {},
   "source": [
    "Q6. Create a list containing 25 int type data. Using for loop and if-else condition print if the element is\n",
    "divisible by 3 or not."
   ]
  },
  {
   "cell_type": "markdown",
   "id": "04046b39-5775-4274-962c-c55323459cea",
   "metadata": {},
   "source": [
    "Ans "
   ]
  },
  {
   "cell_type": "code",
   "execution_count": 19,
   "id": "b7dcc43f-80ff-4969-804c-157a352f3e67",
   "metadata": {},
   "outputs": [
    {
     "name": "stdout",
     "output_type": "stream",
     "text": [
      "25 is not divisible by 3.\n",
      "8 is not divisible by 3.\n",
      "9 is divisible by 3.\n",
      "12 is divisible by 3.\n",
      "21 is divisible by 3.\n",
      "37 is not divisible by 3.\n",
      "4 is not divisible by 3.\n",
      "28 is not divisible by 3.\n",
      "15 is divisible by 3.\n",
      "10 is not divisible by 3.\n",
      "13 is not divisible by 3.\n",
      "44 is not divisible by 3.\n",
      "42 is divisible by 3.\n",
      "19 is not divisible by 3.\n",
      "457 is not divisible by 3.\n",
      "68 is not divisible by 3.\n",
      "72 is divisible by 3.\n",
      "32 is not divisible by 3.\n",
      "14 is not divisible by 3.\n",
      "25 is not divisible by 3.\n",
      "17 is not divisible by 3.\n",
      "49 is not divisible by 3.\n",
      "62 is not divisible by 3.\n",
      "3 is divisible by 3.\n",
      "11 is not divisible by 3.\n"
     ]
    }
   ],
   "source": [
    "list = [25, 8, 9, 12, 21, 37, 4, 28, 15, 10, 13, 44, 42, 19, 457, 68, 72, 32, 14, 25, 17, 49, 62, 3, 11]\n",
    "for num in list:\n",
    "    if num % 3 == 0:\n",
    "        print(f\"{num} is divisible by 3.\")\n",
    "    else:\n",
    "        print(f\"{num} is not divisible by 3.\")"
   ]
  },
  {
   "cell_type": "markdown",
   "id": "70f71adf-fbad-49cb-bbae-2ddf431508d0",
   "metadata": {},
   "source": [
    "Q7. What do you understand about mutable and immutable data types? Give examples for both showing\n",
    "this property."
   ]
  },
  {
   "cell_type": "markdown",
   "id": "ffb582f2-d2f7-4f7c-bab3-72fc1d97a6f7",
   "metadata": {},
   "source": [
    "Ans:- Mutable and immutable are properties of data types in programming languages like Python. They refer to whether the values of an object can be changed after it is created."
   ]
  },
  {
   "cell_type": "markdown",
   "id": "e6b806da-de66-4890-ad2f-ab344e9d89f3",
   "metadata": {},
   "source": [
    "Mutable Data Type :- Mutable data types are those whose values can be changed or modified after they are created. This means you can add, remove, or modify elements in a mutable object without creating a new object. Lists, dictionaries, and sets are examples of mutable data types in Python."
   ]
  },
  {
   "cell_type": "markdown",
   "id": "2cb393b5-7de7-48d7-9100-39855263f0fe",
   "metadata": {},
   "source": [
    "Example of a mutable data type"
   ]
  },
  {
   "cell_type": "markdown",
   "id": "33d60b4a-0109-47c2-be4a-c53ecf5dda89",
   "metadata": {},
   "source": [
    "* List (\"l\")"
   ]
  },
  {
   "cell_type": "code",
   "execution_count": 20,
   "id": "9b338896-d7d2-4034-8b66-b636215e59ba",
   "metadata": {},
   "outputs": [],
   "source": [
    "l = [25,45,56,40,12,230,30]"
   ]
  },
  {
   "cell_type": "code",
   "execution_count": 21,
   "id": "a55018b0-840e-437a-b293-6428eab017e1",
   "metadata": {},
   "outputs": [
    {
     "data": {
      "text/plain": [
       "[25, 45, 56, 40, 12, 230, 30]"
      ]
     },
     "execution_count": 21,
     "metadata": {},
     "output_type": "execute_result"
    }
   ],
   "source": [
    "l"
   ]
  },
  {
   "cell_type": "code",
   "execution_count": 22,
   "id": "091aedff-3b55-4f59-ab9e-c1befbda8f0d",
   "metadata": {},
   "outputs": [],
   "source": [
    "# Modify the list by changing the second element\n",
    "l[1] = 4000"
   ]
  },
  {
   "cell_type": "code",
   "execution_count": 23,
   "id": "ca729ed3-6088-4fab-9285-291646b927ed",
   "metadata": {},
   "outputs": [
    {
     "data": {
      "text/plain": [
       "[25, 4000, 56, 40, 12, 230, 30]"
      ]
     },
     "execution_count": 23,
     "metadata": {},
     "output_type": "execute_result"
    }
   ],
   "source": [
    "l"
   ]
  },
  {
   "cell_type": "code",
   "execution_count": 24,
   "id": "6502464b-7eb2-4360-ad4c-19691283a76f",
   "metadata": {},
   "outputs": [],
   "source": [
    "# Add a new element to the list\n",
    "l.append(560)"
   ]
  },
  {
   "cell_type": "code",
   "execution_count": 25,
   "id": "0b9f3f3c-4738-4c49-b8c6-209d4ebe51e4",
   "metadata": {},
   "outputs": [
    {
     "data": {
      "text/plain": [
       "[25, 4000, 56, 40, 12, 230, 30, 560]"
      ]
     },
     "execution_count": 25,
     "metadata": {},
     "output_type": "execute_result"
    }
   ],
   "source": [
    "l"
   ]
  },
  {
   "cell_type": "markdown",
   "id": "0dbef2c2-b7f3-432e-b77d-e5a43a0502ba",
   "metadata": {},
   "source": [
    "* Dictionary (\"d\")"
   ]
  },
  {
   "cell_type": "code",
   "execution_count": 26,
   "id": "1c0255f0-8865-4eb5-9e0f-b3c42d498256",
   "metadata": {},
   "outputs": [],
   "source": [
    "d = {\"Saksham\": \"jain\", \"phone\": 8269615365}"
   ]
  },
  {
   "cell_type": "code",
   "execution_count": 27,
   "id": "c11b7e1d-f9ca-4175-9561-fd9626ba3219",
   "metadata": {},
   "outputs": [],
   "source": [
    "d[\"phone\"] = 7067564099"
   ]
  },
  {
   "cell_type": "code",
   "execution_count": 28,
   "id": "e8cd980f-7bea-4fe0-b548-b75d41382809",
   "metadata": {},
   "outputs": [
    {
     "data": {
      "text/plain": [
       "{'Saksham': 'jain', 'phone': 7067564099}"
      ]
     },
     "execution_count": 28,
     "metadata": {},
     "output_type": "execute_result"
    }
   ],
   "source": [
    "d"
   ]
  },
  {
   "cell_type": "code",
   "execution_count": 29,
   "id": "7034f8c8-99ea-48a5-a8c7-2859bdc09b3e",
   "metadata": {
    "tags": []
   },
   "outputs": [],
   "source": [
    "#Modifies the value associated with the key \"phone\" in the existing dictionary."
   ]
  },
  {
   "cell_type": "markdown",
   "id": "0d5a8f49-176c-4c1a-9025-963fe3db2446",
   "metadata": {},
   "source": [
    "* Set (\"s\")"
   ]
  },
  {
   "cell_type": "code",
   "execution_count": 30,
   "id": "7a85136c-de5c-41f7-b5f4-178e1e75d691",
   "metadata": {},
   "outputs": [],
   "source": [
    "s = {1,2,3,5,6,4}"
   ]
  },
  {
   "cell_type": "code",
   "execution_count": 31,
   "id": "79438f68-d5fc-4d0e-bc36-0f7b3f53c51b",
   "metadata": {},
   "outputs": [],
   "source": [
    "# Modifies the existing set by adding 10 to it."
   ]
  },
  {
   "cell_type": "code",
   "execution_count": 32,
   "id": "26045cae-6cd0-4e88-86e0-409eecaf8692",
   "metadata": {},
   "outputs": [],
   "source": [
    "s.add(10)"
   ]
  },
  {
   "cell_type": "code",
   "execution_count": 33,
   "id": "ab9115c6-0008-4245-ae8f-aa8c15fe38c7",
   "metadata": {},
   "outputs": [
    {
     "data": {
      "text/plain": [
       "{1, 2, 3, 4, 5, 6, 10}"
      ]
     },
     "execution_count": 33,
     "metadata": {},
     "output_type": "execute_result"
    }
   ],
   "source": [
    "s"
   ]
  },
  {
   "cell_type": "code",
   "execution_count": 34,
   "id": "e9a4a81e-71e2-4aa9-b1e4-b62718ea8d90",
   "metadata": {},
   "outputs": [],
   "source": [
    "# Modifies the existing set by removing the element 4 from it."
   ]
  },
  {
   "cell_type": "code",
   "execution_count": 35,
   "id": "b1d877ee-c824-4155-bb69-a78367702a0c",
   "metadata": {},
   "outputs": [],
   "source": [
    "s.remove(4)"
   ]
  },
  {
   "cell_type": "code",
   "execution_count": 36,
   "id": "28f5b61a-8a5f-4dd8-9f51-3d017d425c15",
   "metadata": {},
   "outputs": [
    {
     "data": {
      "text/plain": [
       "{1, 2, 3, 5, 6, 10}"
      ]
     },
     "execution_count": 36,
     "metadata": {},
     "output_type": "execute_result"
    }
   ],
   "source": [
    "s"
   ]
  },
  {
   "cell_type": "markdown",
   "id": "809ae222-63e6-499b-abe6-0de1eeaa49d0",
   "metadata": {
    "tags": []
   },
   "source": [
    "Immutable Data Type :- Immutable data types are those whose values cannot be changed after they are created. Once an object of an immutable data type is created, its content cannot be modified. Strings, tuples, and frozensets are examples of immutable data types in Python."
   ]
  },
  {
   "cell_type": "markdown",
   "id": "a5bd7fec-0c0b-4ef5-8dd0-4000cd06915b",
   "metadata": {},
   "source": [
    "Examples of immutable data types"
   ]
  },
  {
   "cell_type": "markdown",
   "id": "5eddc431-8d2f-4b07-b278-d4453a1e7dff",
   "metadata": {},
   "source": [
    "* Integers (\"int\")"
   ]
  },
  {
   "cell_type": "code",
   "execution_count": 37,
   "id": "cdeca9a9-d118-486b-8ae9-9a072e71ba15",
   "metadata": {},
   "outputs": [],
   "source": [
    "a = 20"
   ]
  },
  {
   "cell_type": "code",
   "execution_count": 38,
   "id": "c5d1f988-bf98-4258-a61d-312e5318cc5b",
   "metadata": {},
   "outputs": [],
   "source": [
    "# Attempt to modify the Integer (will result in an error)"
   ]
  },
  {
   "cell_type": "code",
   "execution_count": 39,
   "id": "77d6bb8e-de4c-4bc3-b8ac-2063b75227b0",
   "metadata": {},
   "outputs": [
    {
     "ename": "TypeError",
     "evalue": "'int' object does not support item assignment",
     "output_type": "error",
     "traceback": [
      "\u001b[0;31m---------------------------------------------------------------------------\u001b[0m",
      "\u001b[0;31mTypeError\u001b[0m                                 Traceback (most recent call last)",
      "Cell \u001b[0;32mIn[39], line 1\u001b[0m\n\u001b[0;32m----> 1\u001b[0m \u001b[43ma\u001b[49m\u001b[43m[\u001b[49m\u001b[38;5;241;43m20\u001b[39;49m\u001b[43m]\u001b[49m \u001b[38;5;241m=\u001b[39m \u001b[38;5;241m36\u001b[39m\n",
      "\u001b[0;31mTypeError\u001b[0m: 'int' object does not support item assignment"
     ]
    }
   ],
   "source": [
    "a[20] = 36"
   ]
  },
  {
   "cell_type": "code",
   "execution_count": 40,
   "id": "bcc25428-ec1e-444c-9df8-7d51017f5635",
   "metadata": {},
   "outputs": [],
   "source": [
    "# This will raise a TypeError: 'int' object does not support item assignment"
   ]
  },
  {
   "cell_type": "markdown",
   "id": "67e03411-d4ef-4f6c-95e9-0a97a431bbdc",
   "metadata": {},
   "source": [
    "* Tuple (\"t\")"
   ]
  },
  {
   "cell_type": "code",
   "execution_count": 41,
   "id": "0cc32171-fb9f-40ab-b169-1519202a0679",
   "metadata": {},
   "outputs": [],
   "source": [
    "t = (10,8,66,4,33,41,74)"
   ]
  },
  {
   "cell_type": "code",
   "execution_count": 42,
   "id": "1377d726-3854-4abf-aa82-b96274ab0a3e",
   "metadata": {},
   "outputs": [],
   "source": [
    "# Attempt to modify the tuple (will result in an error)"
   ]
  },
  {
   "cell_type": "code",
   "execution_count": 43,
   "id": "fe786dce-0b17-471b-9682-c4752e99ebf0",
   "metadata": {},
   "outputs": [
    {
     "ename": "TypeError",
     "evalue": "'tuple' object does not support item assignment",
     "output_type": "error",
     "traceback": [
      "\u001b[0;31m---------------------------------------------------------------------------\u001b[0m",
      "\u001b[0;31mTypeError\u001b[0m                                 Traceback (most recent call last)",
      "Cell \u001b[0;32mIn[43], line 1\u001b[0m\n\u001b[0;32m----> 1\u001b[0m \u001b[43mt\u001b[49m\u001b[43m[\u001b[49m\u001b[38;5;241;43m66\u001b[39;49m\u001b[43m]\u001b[49m \u001b[38;5;241m=\u001b[39m \u001b[38;5;241m84\u001b[39m\n",
      "\u001b[0;31mTypeError\u001b[0m: 'tuple' object does not support item assignment"
     ]
    }
   ],
   "source": [
    "t[66] = 84"
   ]
  },
  {
   "cell_type": "code",
   "execution_count": 44,
   "id": "52ad631d-4316-4e59-850b-cde4f6145307",
   "metadata": {},
   "outputs": [],
   "source": [
    "# This will raise a TypeError: 'tuple' object does not support item assignment"
   ]
  },
  {
   "cell_type": "markdown",
   "id": "afb1e112-f386-4857-9683-cfa47f57cb35",
   "metadata": {},
   "source": [
    "* String (\"str\")"
   ]
  },
  {
   "cell_type": "code",
   "execution_count": 45,
   "id": "ffb49b59-e998-4d81-83b4-8c386a819522",
   "metadata": {},
   "outputs": [],
   "source": [
    "a = \"Saksham\""
   ]
  },
  {
   "cell_type": "code",
   "execution_count": 46,
   "id": "ffa4091a-5ca3-46d3-b6a9-92477bc6d5c1",
   "metadata": {},
   "outputs": [],
   "source": [
    "# Attempt to modify the tuple (will result in an error)"
   ]
  },
  {
   "cell_type": "code",
   "execution_count": 47,
   "id": "cfe29ab8-be15-4522-98d4-32f6f159f962",
   "metadata": {},
   "outputs": [
    {
     "ename": "TypeError",
     "evalue": "'str' object does not support item assignment",
     "output_type": "error",
     "traceback": [
      "\u001b[0;31m---------------------------------------------------------------------------\u001b[0m",
      "\u001b[0;31mTypeError\u001b[0m                                 Traceback (most recent call last)",
      "Cell \u001b[0;32mIn[47], line 1\u001b[0m\n\u001b[0;32m----> 1\u001b[0m \u001b[43ma\u001b[49m\u001b[43m[\u001b[49m\u001b[38;5;124;43m\"\u001b[39;49m\u001b[38;5;124;43mSaksham\u001b[39;49m\u001b[38;5;124;43m\"\u001b[39;49m\u001b[43m]\u001b[49m \u001b[38;5;241m=\u001b[39m \u001b[38;5;124m\"\u001b[39m\u001b[38;5;124mJain\u001b[39m\u001b[38;5;124m\"\u001b[39m\n",
      "\u001b[0;31mTypeError\u001b[0m: 'str' object does not support item assignment"
     ]
    }
   ],
   "source": [
    "a[\"Saksham\"] = \"Jain\""
   ]
  },
  {
   "cell_type": "code",
   "execution_count": 48,
   "id": "c817d531-c351-40c3-9fe5-8e8242fdcc11",
   "metadata": {},
   "outputs": [],
   "source": [
    "# This will raise a TypeError: 'String' object does not support item assignment"
   ]
  }
 ],
 "metadata": {
  "kernelspec": {
   "display_name": "Python 3 (ipykernel)",
   "language": "python",
   "name": "python3"
  },
  "language_info": {
   "codemirror_mode": {
    "name": "ipython",
    "version": 3
   },
   "file_extension": ".py",
   "mimetype": "text/x-python",
   "name": "python",
   "nbconvert_exporter": "python",
   "pygments_lexer": "ipython3",
   "version": "3.10.8"
  }
 },
 "nbformat": 4,
 "nbformat_minor": 5
}
